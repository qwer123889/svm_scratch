import numpy as np
learning_rate=0.009
class svm:
  def __init__(self,weights,bias):
    self.weights=weights
    self.bias=bias
  def fit(self,X):
    self.weights=np.random.rand(X.shape[1])
    self.bias=np.zeros(1)
  def train(self,X,labels):
    for i,features in enumerate(X):
      self.output=labels[i]*(np.dot(features,self.weights.T)+self.bias)
      if self.output>=1:
        if self.output<1: # check for misclassification
          self.weight+=learning_rate*(self.weights-labels[i]*features)
          self.bias+=learning_rate*-labels[i]
  def predict(self,unseen_value):
    sign=np.sgn(np.dot(unseen_value,self.weights.T)+self.bias)
    return sign
